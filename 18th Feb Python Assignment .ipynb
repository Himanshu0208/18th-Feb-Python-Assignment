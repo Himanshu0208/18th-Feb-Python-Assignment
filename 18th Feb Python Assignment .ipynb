{
 "cells": [
  {
   "cell_type": "markdown",
   "id": "0dbf7545-d015-4037-9ad0-3dd1fcecc8df",
   "metadata": {},
   "source": [
    "# __Ques 1__\n",
    "API Stands for Application Programming Interfence. It is used to connect two diffrenent system which are written in either in same language or framework or diffrenet language and framework.<br>\n",
    "One of the real life example of api is connceting to MongoDB as we send and receive data from our python program or website, these two system are diffrenet from each other hence this data sharing is done through API's "
   ]
  },
  {
   "cell_type": "markdown",
   "id": "28ec4f9e-6add-4ff9-a911-67a2d83b3a3f",
   "metadata": {},
   "source": [
    "# __Ques 2__\n",
    "__Advantages of using API:__\n",
    "\n",
    "1. __Increased efficiency:__ APIs can automate and streamline processes, allowing developers to create applications more quickly and easily than if they had to build every feature from scratch.\n",
    "2. __Standardization:__ APIs can provide a standard way for different applications to communicate with each other, regardless of the platforms or programming languages they use. This allows for greater interoperability and integration between systems.\n",
    "3. __Improved user experience:__ By using APIs, developers can integrate features from multiple sources into a single application, providing users with a more seamless and cohesive experience.\n",
    "4. __Access to third-party resources:__ APIs can provide developers with access to data and services they wouldn't be able to create on their own, allowing them to build more robust and sophisticated applications.\n",
    "5. __Reduced costs:__ APIs can help reduce development costs by providing pre-built functionality that can be easily integrated into an application, eliminating the need for developers to build everything from scratch.\n",
    "\n",
    "<br>__Disadvantages of using API:__\n",
    "\n",
    "1. __Dependence on third-party systems:__ When using an API, developers are dependent on the reliability and availability of the third-party system that hosts the API. If the system experiences downtime or other issues, it can cause disruptions to the developer's application.\n",
    "2. __Security concerns:__ APIs can introduce security vulnerabilities if not implemented properly, as they provide an entry point for attackers to access data and systems.\n",
    "3. __Complexity:__ APIs can be complex to use, requiring developers to have a deep understanding of the underlying technology and protocols. This can create a barrier to entry for less experienced developers.\n",
    "4. __Limited control:__ When using an API, developers are limited to the features and functionality provided by the API. If they need to implement something that isn't available through the API, they may need to build it themselves or find another solution.\n",
    "5. __Changing APIs:__ APIs can change over time, either through updates or discontinuation, which can require developers to update their code or find a new solution altogether. This can introduce additional development costs and complexity.\n",
    "\n",
    "\n",
    "\n"
   ]
  },
  {
   "cell_type": "markdown",
   "id": "28249d0b-f541-452d-b35c-708d8e6dcbc3",
   "metadata": {},
   "source": [
    "# __Ques 3__\n",
    "__WEB API__ is the subset of API, The normal api works on TCP/IP protocol while web api works on HTTP protocol, in lame man language the tranfer an dreciving of data on teh web by following HTTP protocols is called web api\n",
    "<br>Diffrence Between __API__ and __WEB API__ :\n",
    "1. __Implementation:__ APIs can be implemented using any programming language or technology, while Web APIs are typically implemented using web-based languages and frameworks, such as JavaScript, XML, or JSON.\n",
    "2. __Platform:__ APIs can be used on any platform, including desktop applications, mobile devices, and embedded systems, while Web APIs are specifically designed for use on web-based applications.\n",
    "3. __Scope:__ API is a general term that can refer to any type of interface for accessing software functionality or data, while Web API specifically refers to APIs that use web-based protocols.\n",
    "4. __Access:__ APIs can be accessed through a variety of different methods, such as local function calls or network sockets, while Web APIs are typically accessed over the internet using HTTP or other web protocols.\n",
    "5. __Standards:__ Web APIs often follow specific standards, such as REST or SOAP (Simple Object Access Protocol), while APIs may or may not follow any specific standards or protocols."
   ]
  },
  {
   "cell_type": "markdown",
   "id": "5c70c20b-9179-483f-89a1-b9394ad2c619",
   "metadata": {},
   "source": [
    "# __Ques 4__\n",
    "__REST (Representational State Transfer)__ is a lightweight, web-based architecture that uses the HTTP protocol to exchange data between clients and servers.The API client can then interact with these resources using the HTTP methods (GET, POST, PUT, DELETE) to retrieve, create, update, or delete data.<br>\n",
    "__SOAP (Simple Object Access Protocol)__ is a more complex architecture that uses XML to transfer data between clients and servers.  SOAP is more heavyweight than REST and is designed to work with more complex distributed systems.SOAP defines a set of rules for how messages should be formatted and sent between applications, including a message envelope, header, and body.<br><br><br>\n",
    "__Some Short Comming of SOAP__\n",
    "1. __Limited Support:__ SOAP has limited support for caching, which can lead to slower performance and increased network traffic.\n",
    "2. __Complexity:__ SOAP is more complex and has a steeper learning curve than REST, which can make it more difficult for developers to use.\n",
    "3. __Overhead:__ SOAP messages are typically larger and more verbose than REST messages, which can lead to increased network traffic and slower performance."
   ]
  },
  {
   "cell_type": "markdown",
   "id": "c2bf39d1-c842-45fc-aff6-e4636e14bcb3",
   "metadata": {},
   "source": [
    "# __Ques 5__\n",
    "__REST(Representational State Transfer) :__\n",
    "1. __Security :__ It is less secure than SOAP.\n",
    "2. __Protocol :__ It uses HTTP protocol only for Data Transfering.\n",
    "3. __Weight :__ It is very light weight.\n",
    "4. __Language :__ It send data in JSON(Java Script Object Notation).\n",
    "5. __Speed :__ REST API's are Faster than SOAP API's.\n",
    "\n",
    "<br><br><br>\n",
    "__SOAP(Simple Object Access Protocol) :__\n",
    "1. __Security :__ It is more secure than REST.\n",
    "2. __Protocol :__ It uses SMTP, TCP/IP , HTTP protocol for Data Transfering.\n",
    "3. __Weight :__ It is heavy weight.\n",
    "4. __Language :__ It send data in XML(Extensible Markup Language).\n",
    "5. __Speed :__ SOAP API's are Slower than REST API's."
   ]
  }
 ],
 "metadata": {
  "kernelspec": {
   "display_name": "Python 3 (ipykernel)",
   "language": "python",
   "name": "python3"
  },
  "language_info": {
   "codemirror_mode": {
    "name": "ipython",
    "version": 3
   },
   "file_extension": ".py",
   "mimetype": "text/x-python",
   "name": "python",
   "nbconvert_exporter": "python",
   "pygments_lexer": "ipython3",
   "version": "3.10.8"
  }
 },
 "nbformat": 4,
 "nbformat_minor": 5
}
